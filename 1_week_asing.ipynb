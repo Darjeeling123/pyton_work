{
 "cells": [
  {
   "cell_type": "markdown",
   "id": "a7298552",
   "metadata": {},
   "source": [
    "Answer 1"
   ]
  },
  {
   "cell_type": "code",
   "execution_count": 37,
   "id": "96577f07",
   "metadata": {},
   "outputs": [],
   "source": [
    "s = 'kundan' #string"
   ]
  },
  {
   "cell_type": "code",
   "execution_count": 38,
   "id": "b9d3c63c",
   "metadata": {},
   "outputs": [],
   "source": [
    "l = ['kundan', 123 , 12.34, True] #list"
   ]
  },
  {
   "cell_type": "code",
   "execution_count": 39,
   "id": "d4f2d30e",
   "metadata": {},
   "outputs": [],
   "source": [
    "f = 12.3  #float"
   ]
  },
  {
   "cell_type": "code",
   "execution_count": 40,
   "id": "8781d94e",
   "metadata": {},
   "outputs": [],
   "source": [
    "tup = 123, 'kundab' , 12.24"
   ]
  },
  {
   "cell_type": "markdown",
   "id": "f115032c",
   "metadata": {},
   "source": [
    "Answer 2"
   ]
  },
  {
   "cell_type": "code",
   "execution_count": 41,
   "id": "1d14ea66",
   "metadata": {},
   "outputs": [
    {
     "data": {
      "text/plain": [
       "str"
      ]
     },
     "execution_count": 41,
     "metadata": {},
     "output_type": "execute_result"
    }
   ],
   "source": [
    "var1 = ''\n",
    "type(var1)"
   ]
  },
  {
   "cell_type": "code",
   "execution_count": 42,
   "id": "245a6228",
   "metadata": {},
   "outputs": [
    {
     "data": {
      "text/plain": [
       "str"
      ]
     },
     "execution_count": 42,
     "metadata": {},
     "output_type": "execute_result"
    }
   ],
   "source": [
    "var2 = '[DS,ML,Python]'\n",
    "type(var2)"
   ]
  },
  {
   "cell_type": "code",
   "execution_count": 43,
   "id": "62b7e406",
   "metadata": {},
   "outputs": [
    {
     "data": {
      "text/plain": [
       "list"
      ]
     },
     "execution_count": 43,
     "metadata": {},
     "output_type": "execute_result"
    }
   ],
   "source": [
    "var3 = ['DS','ML','Python']\n",
    "type(var3)"
   ]
  },
  {
   "cell_type": "code",
   "execution_count": 44,
   "id": "81fcfe06",
   "metadata": {},
   "outputs": [
    {
     "data": {
      "text/plain": [
       "int"
      ]
     },
     "execution_count": 44,
     "metadata": {},
     "output_type": "execute_result"
    }
   ],
   "source": [
    "var4 = 1\n",
    "type(var4)"
   ]
  },
  {
   "cell_type": "markdown",
   "id": "d1e900f3",
   "metadata": {},
   "source": [
    "Answer 3"
   ]
  },
  {
   "cell_type": "code",
   "execution_count": 45,
   "id": "a2f3d562",
   "metadata": {},
   "outputs": [
    {
     "data": {
      "text/plain": [
       "2.0"
      ]
     },
     "execution_count": 45,
     "metadata": {},
     "output_type": "execute_result"
    }
   ],
   "source": [
    "4/2         # / \"It represent the devision\""
   ]
  },
  {
   "cell_type": "code",
   "execution_count": 46,
   "id": "7a31f806",
   "metadata": {},
   "outputs": [
    {
     "data": {
      "text/plain": [
       "1"
      ]
     },
     "execution_count": 46,
     "metadata": {},
     "output_type": "execute_result"
    }
   ],
   "source": [
    "10 % 3 # %  \"It represent the reminder\""
   ]
  },
  {
   "cell_type": "code",
   "execution_count": 47,
   "id": "31bc43f5",
   "metadata": {},
   "outputs": [
    {
     "data": {
      "text/plain": [
       "1"
      ]
     },
     "execution_count": 47,
     "metadata": {},
     "output_type": "execute_result"
    }
   ],
   "source": [
    "15 // 13 # // \"It represent the quotient\"\n"
   ]
  },
  {
   "cell_type": "code",
   "execution_count": 48,
   "id": "d708ed66",
   "metadata": {},
   "outputs": [
    {
     "data": {
      "text/plain": [
       "32"
      ]
     },
     "execution_count": 48,
     "metadata": {},
     "output_type": "execute_result"
    }
   ],
   "source": [
    " 2 **5 # ** \"It represent the power/exponent\""
   ]
  },
  {
   "cell_type": "markdown",
   "id": "84af0fe7",
   "metadata": {},
   "source": [
    "Answer 4"
   ]
  },
  {
   "cell_type": "code",
   "execution_count": 49,
   "id": "32e84f2c",
   "metadata": {},
   "outputs": [
    {
     "name": "stdout",
     "output_type": "stream",
     "text": [
      "kundan\n",
      "sanika\n",
      "johnson\n",
      "25\n",
      "1997\n",
      "2.8\n",
      "True\n",
      "data\n",
      "False\n",
      "3500\n"
     ]
    }
   ],
   "source": [
    "lst = ['kundan' ,'sanika' , 'johnson' , 25, 1997 , 2.8 , True , 'data', False, 3500]\n",
    "for i in lst:\n",
    "    print(i)\n"
   ]
  },
  {
   "cell_type": "markdown",
   "id": "9c4710e6",
   "metadata": {},
   "source": [
    "Answer 7"
   ]
  },
  {
   "cell_type": "code",
   "execution_count": 50,
   "id": "0efaa123",
   "metadata": {},
   "outputs": [
    {
     "data": {
      "text/plain": [
       "['kundan', 'sanika', True, 15]"
      ]
     },
     "execution_count": 50,
     "metadata": {},
     "output_type": "execute_result"
    }
   ],
   "source": [
    "# Mutable - 'Variables which can be change/modify'\n",
    "l2 = ['kundan', 12.3,True,15]\n",
    "l2[1] = 'sanika'\n",
    "l2"
   ]
  },
  {
   "cell_type": "code",
   "execution_count": 51,
   "id": "9b4395ea",
   "metadata": {},
   "outputs": [],
   "source": [
    "# Imutable - 'Variables which can't be change/modify'\n",
    "Im = \"kundan\"\n"
   ]
  },
  {
   "cell_type": "markdown",
   "id": "5d7455a3",
   "metadata": {},
   "source": [
    "Answer 5"
   ]
  },
  {
   "cell_type": "code",
   "execution_count": 52,
   "id": "34db3d83",
   "metadata": {},
   "outputs": [
    {
     "name": "stdout",
     "output_type": "stream",
     "text": [
      "The number 4.0 is divisible by 3 and can be divided 2 times.\n"
     ]
    }
   ],
   "source": [
    "A = 36\n",
    "B = 3  \n",
    "count = 0 \n",
    "\n",
    "while A % B == 0:\n",
    "    A = A / B\n",
    "    count += 1\n",
    "\n",
    "if count > 0:\n",
    "    print(f\"The number {A} is divisible by {B} and can be divided {count} times.\")\n",
    "else:\n",
    "    print(f\"The number {A} is not divisible by {B}.\")\n",
    "\n",
    "        \n",
    "        \n",
    "   "
   ]
  },
  {
   "cell_type": "markdown",
   "id": "ac6c242f",
   "metadata": {},
   "source": [
    "Answer 6"
   ]
  },
  {
   "cell_type": "code",
   "execution_count": 53,
   "id": "28c5704f",
   "metadata": {},
   "outputs": [
    {
     "name": "stdout",
     "output_type": "stream",
     "text": [
      "the 1 is  not divisible by 3\n",
      "the 2 is  not divisible by 3\n",
      "the 3 is divisible by 3\n",
      "the 4 is  not divisible by 3\n",
      "the 5 is  not divisible by 3\n",
      "the 6 is divisible by 3\n",
      "the 7 is  not divisible by 3\n",
      "the 8 is  not divisible by 3\n",
      "the 9 is divisible by 3\n",
      "the 10 is  not divisible by 3\n",
      "the 11 is  not divisible by 3\n",
      "the 12 is divisible by 3\n",
      "the 13 is  not divisible by 3\n",
      "the 14 is  not divisible by 3\n",
      "the 15 is divisible by 3\n",
      "the 16 is  not divisible by 3\n",
      "the 17 is  not divisible by 3\n",
      "the 18 is divisible by 3\n",
      "the 19 is  not divisible by 3\n",
      "the 20 is  not divisible by 3\n",
      "the 21 is divisible by 3\n",
      "the 22 is  not divisible by 3\n",
      "the 23 is  not divisible by 3\n",
      "the 24 is divisible by 3\n",
      "the 25 is  not divisible by 3\n"
     ]
    }
   ],
   "source": [
    "k = list(range(1,26))\n",
    "for i in k:\n",
    "    if i % 3 ==0:\n",
    "        print(f'the {i} is divisible by 3')\n",
    "    else:\n",
    "        print(f'the {i} is  not divisible by 3')\n",
    "        "
   ]
  }
 ],
 "metadata": {
  "kernelspec": {
   "display_name": "Python 3 (ipykernel)",
   "language": "python",
   "name": "python3"
  },
  "language_info": {
   "codemirror_mode": {
    "name": "ipython",
    "version": 3
   },
   "file_extension": ".py",
   "mimetype": "text/x-python",
   "name": "python",
   "nbconvert_exporter": "python",
   "pygments_lexer": "ipython3",
   "version": "3.9.12"
  }
 },
 "nbformat": 4,
 "nbformat_minor": 5
}
